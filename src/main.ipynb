{
 "cells": [
  {
   "cell_type": "code",
   "execution_count": 6,
   "metadata": {},
   "outputs": [],
   "source": [
    "import pqr\n",
    "import pandas as pd\n",
    "import numpy as np\n",
    "import matplotlib.pyplot as plt\n",
    "import yfinance as yf\n"
   ]
  },
  {
   "attachments": {},
   "cell_type": "markdown",
   "metadata": {},
   "source": [
    "# Выгрузка исходных данных для построения стратегии или модели\n"
   ]
  },
  {
   "cell_type": "code",
   "execution_count": 7,
   "metadata": {},
   "outputs": [],
   "source": [
    "import requests\n",
    "\n",
    "voluminous_stocks_tickers = requests.get(\n",
    "    \"https://github.com/aalitvinov/ITfF_tomtosov/raw/main/hw_data/voluminous_stocks_tickers.json\"\n",
    ").json()\n"
   ]
  },
  {
   "cell_type": "code",
   "execution_count": 8,
   "metadata": {},
   "outputs": [],
   "source": [
    "from datetime import datetime\n",
    "\n",
    "start = datetime(2008, 1, 1)\n",
    "end = datetime(2022, 5, 1)\n"
   ]
  },
  {
   "cell_type": "code",
   "execution_count": 55,
   "metadata": {},
   "outputs": [
    {
     "name": "stdout",
     "output_type": "stream",
     "text": [
      "[*********************100%***********************]  200 of 200 completed\n"
     ]
    }
   ],
   "source": [
    "try:\n",
    "    voluminous_stocks_yf = pd.read_csv(\n",
    "        \"./hw_data/voluminous_stocks_yf.csv.xz\",\n",
    "        compression=\"xz\",\n",
    "        header=[0, 1],\n",
    "        index_col=[0, 1],\n",
    "    )\n",
    "except FileNotFoundError:\n",
    "    voluminous_stocks_yf: pd.DataFrame = (\n",
    "        yf.download(\n",
    "            tickers=voluminous_stocks_tickers,\n",
    "            interval=\"1d\",\n",
    "            start=start,\n",
    "            end=end,\n",
    "            group_by=\"column\",\n",
    "            progress=True,\n",
    "            show_errors=False,\n",
    "        )\n",
    "        .loc[:, [\"Adj Close\", \"Volume\"]]\n",
    "        .rename({\"Adj Close\": \"adj_close\", \"Volume\": \"volume\"}, axis=1)\n",
    "    )\n",
    "    voluminous_stocks_yf.to_csv(\n",
    "        \"./hw_data/voluminous_stocks_yf.csv.xz\", compression=\"xz\", index=True\n",
    "    )\n"
   ]
  },
  {
   "cell_type": "code",
   "execution_count": 58,
   "metadata": {},
   "outputs": [
    {
     "data": {
      "text/html": [
       "<div>\n",
       "<style scoped>\n",
       "    .dataframe tbody tr th:only-of-type {\n",
       "        vertical-align: middle;\n",
       "    }\n",
       "\n",
       "    .dataframe tbody tr th {\n",
       "        vertical-align: top;\n",
       "    }\n",
       "\n",
       "    .dataframe thead tr th {\n",
       "        text-align: left;\n",
       "    }\n",
       "\n",
       "    .dataframe thead tr:last-of-type th {\n",
       "        text-align: right;\n",
       "    }\n",
       "</style>\n",
       "<table border=\"1\" class=\"dataframe\">\n",
       "  <thead>\n",
       "    <tr>\n",
       "      <th></th>\n",
       "      <th colspan=\"10\" halign=\"left\">adj_close</th>\n",
       "      <th>...</th>\n",
       "      <th colspan=\"10\" halign=\"left\">volume</th>\n",
       "    </tr>\n",
       "    <tr>\n",
       "      <th></th>\n",
       "      <th>AA</th>\n",
       "      <th>AAL</th>\n",
       "      <th>AAPL</th>\n",
       "      <th>ABBV</th>\n",
       "      <th>ABEV</th>\n",
       "      <th>ABT</th>\n",
       "      <th>AFL</th>\n",
       "      <th>AIG</th>\n",
       "      <th>AIV</th>\n",
       "      <th>AMAT</th>\n",
       "      <th>...</th>\n",
       "      <th>VXRT</th>\n",
       "      <th>VZ</th>\n",
       "      <th>WLL</th>\n",
       "      <th>WMB</th>\n",
       "      <th>WMT</th>\n",
       "      <th>WPM</th>\n",
       "      <th>X</th>\n",
       "      <th>XOM</th>\n",
       "      <th>XSPA</th>\n",
       "      <th>ZM</th>\n",
       "    </tr>\n",
       "    <tr>\n",
       "      <th>Date</th>\n",
       "      <th></th>\n",
       "      <th></th>\n",
       "      <th></th>\n",
       "      <th></th>\n",
       "      <th></th>\n",
       "      <th></th>\n",
       "      <th></th>\n",
       "      <th></th>\n",
       "      <th></th>\n",
       "      <th></th>\n",
       "      <th></th>\n",
       "      <th></th>\n",
       "      <th></th>\n",
       "      <th></th>\n",
       "      <th></th>\n",
       "      <th></th>\n",
       "      <th></th>\n",
       "      <th></th>\n",
       "      <th></th>\n",
       "      <th></th>\n",
       "      <th></th>\n",
       "    </tr>\n",
       "  </thead>\n",
       "  <tbody>\n",
       "    <tr>\n",
       "      <th>2019-04-18 00:00:00</th>\n",
       "      <td>26.358837</td>\n",
       "      <td>33.915295</td>\n",
       "      <td>49.325840</td>\n",
       "      <td>64.328300</td>\n",
       "      <td>3.760329</td>\n",
       "      <td>69.277443</td>\n",
       "      <td>44.319920</td>\n",
       "      <td>41.089413</td>\n",
       "      <td>4.561910</td>\n",
       "      <td>42.011482</td>\n",
       "      <td>...</td>\n",
       "      <td>907700</td>\n",
       "      <td>13189000</td>\n",
       "      <td>NaN</td>\n",
       "      <td>6097400</td>\n",
       "      <td>3727800</td>\n",
       "      <td>3175300</td>\n",
       "      <td>11889100</td>\n",
       "      <td>9493900</td>\n",
       "      <td>NaN</td>\n",
       "      <td>25764700.0</td>\n",
       "    </tr>\n",
       "    <tr>\n",
       "      <th>2019-04-22 00:00:00</th>\n",
       "      <td>27.822117</td>\n",
       "      <td>33.037067</td>\n",
       "      <td>49.487938</td>\n",
       "      <td>64.809288</td>\n",
       "      <td>3.820701</td>\n",
       "      <td>69.830391</td>\n",
       "      <td>43.993771</td>\n",
       "      <td>41.053699</td>\n",
       "      <td>4.492434</td>\n",
       "      <td>41.858532</td>\n",
       "      <td>...</td>\n",
       "      <td>1207900</td>\n",
       "      <td>11950400</td>\n",
       "      <td>NaN</td>\n",
       "      <td>4138800</td>\n",
       "      <td>5079400</td>\n",
       "      <td>1466600</td>\n",
       "      <td>10015800</td>\n",
       "      <td>10770600</td>\n",
       "      <td>NaN</td>\n",
       "      <td>9949700.0</td>\n",
       "    </tr>\n",
       "    <tr>\n",
       "      <th>2019-04-23 00:00:00</th>\n",
       "      <td>28.207712</td>\n",
       "      <td>33.520588</td>\n",
       "      <td>50.201729</td>\n",
       "      <td>65.232231</td>\n",
       "      <td>3.881073</td>\n",
       "      <td>71.320526</td>\n",
       "      <td>44.310860</td>\n",
       "      <td>41.035854</td>\n",
       "      <td>4.577871</td>\n",
       "      <td>41.896767</td>\n",
       "      <td>...</td>\n",
       "      <td>589300</td>\n",
       "      <td>23488700</td>\n",
       "      <td>NaN</td>\n",
       "      <td>5431600</td>\n",
       "      <td>5050800</td>\n",
       "      <td>1896600</td>\n",
       "      <td>11558800</td>\n",
       "      <td>10595100</td>\n",
       "      <td>NaN</td>\n",
       "      <td>6786500.0</td>\n",
       "    </tr>\n",
       "    <tr>\n",
       "      <th>2019-04-24 00:00:00</th>\n",
       "      <td>27.802343</td>\n",
       "      <td>33.540321</td>\n",
       "      <td>50.124306</td>\n",
       "      <td>65.240532</td>\n",
       "      <td>3.837950</td>\n",
       "      <td>71.929695</td>\n",
       "      <td>44.292740</td>\n",
       "      <td>40.821663</td>\n",
       "      <td>4.621059</td>\n",
       "      <td>42.498978</td>\n",
       "      <td>...</td>\n",
       "      <td>2645000</td>\n",
       "      <td>13227100</td>\n",
       "      <td>NaN</td>\n",
       "      <td>4326300</td>\n",
       "      <td>4697800</td>\n",
       "      <td>2977800</td>\n",
       "      <td>8454700</td>\n",
       "      <td>11684000</td>\n",
       "      <td>NaN</td>\n",
       "      <td>4973500.0</td>\n",
       "    </tr>\n",
       "    <tr>\n",
       "      <th>2019-04-25 00:00:00</th>\n",
       "      <td>26.803751</td>\n",
       "      <td>32.967991</td>\n",
       "      <td>49.669418</td>\n",
       "      <td>65.796135</td>\n",
       "      <td>3.984568</td>\n",
       "      <td>73.204285</td>\n",
       "      <td>44.555462</td>\n",
       "      <td>40.330803</td>\n",
       "      <td>4.618241</td>\n",
       "      <td>42.489418</td>\n",
       "      <td>...</td>\n",
       "      <td>3693400</td>\n",
       "      <td>17425500</td>\n",
       "      <td>NaN</td>\n",
       "      <td>4900200</td>\n",
       "      <td>3961100</td>\n",
       "      <td>1230200</td>\n",
       "      <td>9934000</td>\n",
       "      <td>11135000</td>\n",
       "      <td>NaN</td>\n",
       "      <td>3863300.0</td>\n",
       "    </tr>\n",
       "  </tbody>\n",
       "</table>\n",
       "<p>5 rows × 400 columns</p>\n",
       "</div>"
      ],
      "text/plain": [
       "                     adj_close                                             \\\n",
       "                            AA        AAL       AAPL       ABBV      ABEV   \n",
       "Date                                                                        \n",
       "2019-04-18 00:00:00  26.358837  33.915295  49.325840  64.328300  3.760329   \n",
       "2019-04-22 00:00:00  27.822117  33.037067  49.487938  64.809288  3.820701   \n",
       "2019-04-23 00:00:00  28.207712  33.520588  50.201729  65.232231  3.881073   \n",
       "2019-04-24 00:00:00  27.802343  33.540321  50.124306  65.240532  3.837950   \n",
       "2019-04-25 00:00:00  26.803751  32.967991  49.669418  65.796135  3.984568   \n",
       "\n",
       "                                                                           \\\n",
       "                           ABT        AFL        AIG       AIV       AMAT   \n",
       "Date                                                                        \n",
       "2019-04-18 00:00:00  69.277443  44.319920  41.089413  4.561910  42.011482   \n",
       "2019-04-22 00:00:00  69.830391  43.993771  41.053699  4.492434  41.858532   \n",
       "2019-04-23 00:00:00  71.320526  44.310860  41.035854  4.577871  41.896767   \n",
       "2019-04-24 00:00:00  71.929695  44.292740  40.821663  4.621059  42.498978   \n",
       "2019-04-25 00:00:00  73.204285  44.555462  40.330803  4.618241  42.489418   \n",
       "\n",
       "                     ...   volume                                           \\\n",
       "                     ...     VXRT        VZ WLL      WMB      WMT      WPM   \n",
       "Date                 ...                                                     \n",
       "2019-04-18 00:00:00  ...   907700  13189000 NaN  6097400  3727800  3175300   \n",
       "2019-04-22 00:00:00  ...  1207900  11950400 NaN  4138800  5079400  1466600   \n",
       "2019-04-23 00:00:00  ...   589300  23488700 NaN  5431600  5050800  1896600   \n",
       "2019-04-24 00:00:00  ...  2645000  13227100 NaN  4326300  4697800  2977800   \n",
       "2019-04-25 00:00:00  ...  3693400  17425500 NaN  4900200  3961100  1230200   \n",
       "\n",
       "                                                          \n",
       "                            X       XOM XSPA          ZM  \n",
       "Date                                                      \n",
       "2019-04-18 00:00:00  11889100   9493900  NaN  25764700.0  \n",
       "2019-04-22 00:00:00  10015800  10770600  NaN   9949700.0  \n",
       "2019-04-23 00:00:00  11558800  10595100  NaN   6786500.0  \n",
       "2019-04-24 00:00:00   8454700  11684000  NaN   4973500.0  \n",
       "2019-04-25 00:00:00   9934000  11135000  NaN   3863300.0  \n",
       "\n",
       "[5 rows x 400 columns]"
      ]
     },
     "execution_count": 58,
     "metadata": {},
     "output_type": "execute_result"
    }
   ],
   "source": [
    "voluminous_stocks_yf.head()"
   ]
  },
  {
   "cell_type": "code",
   "execution_count": 56,
   "metadata": {},
   "outputs": [
    {
     "name": "stdout",
     "output_type": "stream",
     "text": [
      "<class 'pandas.core.frame.DataFrame'>\n",
      "Index: 3609 entries, 2019-04-18 00:00:00 to 2019-04-17 00:00:00\n",
      "Columns: 400 entries, ('adj_close', 'AA') to ('volume', 'ZM')\n",
      "dtypes: float64(227), int64(173)\n",
      "memory usage: 11.0+ MB\n"
     ]
    }
   ],
   "source": [
    "voluminous_stocks_yf.info()"
   ]
  },
  {
   "cell_type": "code",
   "execution_count": 11,
   "metadata": {},
   "outputs": [
    {
     "data": {
      "text/plain": [
       "200"
      ]
     },
     "execution_count": 11,
     "metadata": {},
     "output_type": "execute_result"
    }
   ],
   "source": [
    "len(voluminous_stocks_tickers)\n"
   ]
  },
  {
   "attachments": {},
   "cell_type": "markdown",
   "metadata": {},
   "source": [
    "# Обработка финансовых данных\n"
   ]
  },
  {
   "cell_type": "code",
   "execution_count": null,
   "metadata": {},
   "outputs": [],
   "source": []
  },
  {
   "attachments": {},
   "cell_type": "markdown",
   "metadata": {},
   "source": [
    "# Построение инвестиционной стратегии или финансовой модели\n"
   ]
  },
  {
   "cell_type": "code",
   "execution_count": null,
   "metadata": {},
   "outputs": [],
   "source": []
  },
  {
   "attachments": {},
   "cell_type": "markdown",
   "metadata": {},
   "source": [
    "# Аналитика и визуализация результатов\n"
   ]
  }
 ],
 "metadata": {
  "kernelspec": {
   "display_name": ".venv",
   "language": "python",
   "name": "python3"
  },
  "language_info": {
   "codemirror_mode": {
    "name": "ipython",
    "version": 3
   },
   "file_extension": ".py",
   "mimetype": "text/x-python",
   "name": "python",
   "nbconvert_exporter": "python",
   "pygments_lexer": "ipython3",
   "version": "3.10.11"
  },
  "orig_nbformat": 4
 },
 "nbformat": 4,
 "nbformat_minor": 2
}
