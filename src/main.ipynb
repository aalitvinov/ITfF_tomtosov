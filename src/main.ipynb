{
 "cells": [
  {
   "cell_type": "code",
   "execution_count": 6,
   "metadata": {},
   "outputs": [],
   "source": [
    "import pqr\n",
    "import pandas as pd\n",
    "import numpy as np\n",
    "import matplotlib.pyplot as plt\n",
    "import yfinance as yf\n"
   ]
  },
  {
   "attachments": {},
   "cell_type": "markdown",
   "metadata": {},
   "source": [
    "# Выгрузка исходных данных для построения стратегии или модели\n"
   ]
  },
  {
   "cell_type": "code",
   "execution_count": 7,
   "metadata": {},
   "outputs": [],
   "source": [
    "import requests\n",
    "\n",
    "voluminous_stocks_tickers = requests.get(\n",
    "    \"https://github.com/aalitvinov/ITfF_tomtosov/raw/main/hw_data/voluminous_stocks_tickers.json\"\n",
    ").json()\n"
   ]
  },
  {
   "cell_type": "code",
   "execution_count": 59,
   "metadata": {},
   "outputs": [],
   "source": [
    "from datetime import datetime\n",
    "\n",
    "start = datetime(2008, 1, 1)\n",
    "end = datetime(2023, 1, 1)\n"
   ]
  },
  {
   "cell_type": "code",
   "execution_count": 60,
   "metadata": {},
   "outputs": [
    {
     "name": "stdout",
     "output_type": "stream",
     "text": [
      "[*********************100%***********************]  200 of 200 completed\n"
     ]
    }
   ],
   "source": [
    "try:\n",
    "    voluminous_stocks_yf = pd.read_csv(\n",
    "        \"./hw_data/voluminous_stocks_yf.csv.xz\",\n",
    "        compression=\"xz\",\n",
    "        header=[0, 1],\n",
    "        index_col=[0, 1],\n",
    "    )\n",
    "except FileNotFoundError:\n",
    "    voluminous_stocks_yf: pd.DataFrame = (\n",
    "        yf.download(\n",
    "            tickers=voluminous_stocks_tickers,\n",
    "            interval=\"1d\",\n",
    "            start=start,\n",
    "            end=end,\n",
    "            group_by=\"column\",\n",
    "            progress=True,\n",
    "            show_errors=False,\n",
    "        )\n",
    "        .loc[:, [\"Adj Close\", \"Volume\"]]\n",
    "        .rename({\"Adj Close\": \"adj_close\", \"Volume\": \"volume\"}, axis=1)\n",
    "    )\n",
    "    voluminous_stocks_yf.to_csv(\n",
    "        \"./hw_data/voluminous_stocks_yf.csv.xz\", compression=\"xz\", index=True\n",
    "    )\n"
   ]
  },
  {
   "cell_type": "code",
   "execution_count": 61,
   "metadata": {},
   "outputs": [
    {
     "data": {
      "text/html": [
       "<div>\n",
       "<style scoped>\n",
       "    .dataframe tbody tr th:only-of-type {\n",
       "        vertical-align: middle;\n",
       "    }\n",
       "\n",
       "    .dataframe tbody tr th {\n",
       "        vertical-align: top;\n",
       "    }\n",
       "\n",
       "    .dataframe thead tr th {\n",
       "        text-align: left;\n",
       "    }\n",
       "\n",
       "    .dataframe thead tr:last-of-type th {\n",
       "        text-align: right;\n",
       "    }\n",
       "</style>\n",
       "<table border=\"1\" class=\"dataframe\">\n",
       "  <thead>\n",
       "    <tr>\n",
       "      <th></th>\n",
       "      <th colspan=\"10\" halign=\"left\">adj_close</th>\n",
       "      <th>...</th>\n",
       "      <th colspan=\"10\" halign=\"left\">volume</th>\n",
       "    </tr>\n",
       "    <tr>\n",
       "      <th></th>\n",
       "      <th>AA</th>\n",
       "      <th>AAL</th>\n",
       "      <th>AAPL</th>\n",
       "      <th>ABBV</th>\n",
       "      <th>ABEV</th>\n",
       "      <th>ABT</th>\n",
       "      <th>AFL</th>\n",
       "      <th>AIG</th>\n",
       "      <th>AIV</th>\n",
       "      <th>AMAT</th>\n",
       "      <th>...</th>\n",
       "      <th>VXRT</th>\n",
       "      <th>VZ</th>\n",
       "      <th>WLL</th>\n",
       "      <th>WMB</th>\n",
       "      <th>WMT</th>\n",
       "      <th>WPM</th>\n",
       "      <th>X</th>\n",
       "      <th>XOM</th>\n",
       "      <th>XSPA</th>\n",
       "      <th>ZM</th>\n",
       "    </tr>\n",
       "    <tr>\n",
       "      <th>Date</th>\n",
       "      <th></th>\n",
       "      <th></th>\n",
       "      <th></th>\n",
       "      <th></th>\n",
       "      <th></th>\n",
       "      <th></th>\n",
       "      <th></th>\n",
       "      <th></th>\n",
       "      <th></th>\n",
       "      <th></th>\n",
       "      <th></th>\n",
       "      <th></th>\n",
       "      <th></th>\n",
       "      <th></th>\n",
       "      <th></th>\n",
       "      <th></th>\n",
       "      <th></th>\n",
       "      <th></th>\n",
       "      <th></th>\n",
       "      <th></th>\n",
       "      <th></th>\n",
       "    </tr>\n",
       "  </thead>\n",
       "  <tbody>\n",
       "    <tr>\n",
       "      <th>2019-04-18 00:00:00</th>\n",
       "      <td>26.358835</td>\n",
       "      <td>33.915295</td>\n",
       "      <td>49.325844</td>\n",
       "      <td>64.328308</td>\n",
       "      <td>3.760329</td>\n",
       "      <td>69.277428</td>\n",
       "      <td>44.319916</td>\n",
       "      <td>41.089409</td>\n",
       "      <td>4.561911</td>\n",
       "      <td>42.011478</td>\n",
       "      <td>...</td>\n",
       "      <td>907700</td>\n",
       "      <td>13189000</td>\n",
       "      <td>NaN</td>\n",
       "      <td>6097400</td>\n",
       "      <td>3727800</td>\n",
       "      <td>3175300</td>\n",
       "      <td>11889100</td>\n",
       "      <td>9493900</td>\n",
       "      <td>NaN</td>\n",
       "      <td>25764700.0</td>\n",
       "    </tr>\n",
       "    <tr>\n",
       "      <th>2019-04-22 00:00:00</th>\n",
       "      <td>27.822113</td>\n",
       "      <td>33.037071</td>\n",
       "      <td>49.487949</td>\n",
       "      <td>64.809296</td>\n",
       "      <td>3.820701</td>\n",
       "      <td>69.830391</td>\n",
       "      <td>43.993767</td>\n",
       "      <td>41.053707</td>\n",
       "      <td>4.492435</td>\n",
       "      <td>41.858528</td>\n",
       "      <td>...</td>\n",
       "      <td>1207900</td>\n",
       "      <td>11950400</td>\n",
       "      <td>NaN</td>\n",
       "      <td>4138800</td>\n",
       "      <td>5079400</td>\n",
       "      <td>1466600</td>\n",
       "      <td>10015800</td>\n",
       "      <td>10770600</td>\n",
       "      <td>NaN</td>\n",
       "      <td>9949700.0</td>\n",
       "    </tr>\n",
       "  </tbody>\n",
       "</table>\n",
       "<p>2 rows × 400 columns</p>\n",
       "</div>"
      ],
      "text/plain": [
       "                     adj_close                                             \\\n",
       "                            AA        AAL       AAPL       ABBV      ABEV   \n",
       "Date                                                                        \n",
       "2019-04-18 00:00:00  26.358835  33.915295  49.325844  64.328308  3.760329   \n",
       "2019-04-22 00:00:00  27.822113  33.037071  49.487949  64.809296  3.820701   \n",
       "\n",
       "                                                                           \\\n",
       "                           ABT        AFL        AIG       AIV       AMAT   \n",
       "Date                                                                        \n",
       "2019-04-18 00:00:00  69.277428  44.319916  41.089409  4.561911  42.011478   \n",
       "2019-04-22 00:00:00  69.830391  43.993767  41.053707  4.492435  41.858528   \n",
       "\n",
       "                     ...   volume                                           \\\n",
       "                     ...     VXRT        VZ WLL      WMB      WMT      WPM   \n",
       "Date                 ...                                                     \n",
       "2019-04-18 00:00:00  ...   907700  13189000 NaN  6097400  3727800  3175300   \n",
       "2019-04-22 00:00:00  ...  1207900  11950400 NaN  4138800  5079400  1466600   \n",
       "\n",
       "                                                          \n",
       "                            X       XOM XSPA          ZM  \n",
       "Date                                                      \n",
       "2019-04-18 00:00:00  11889100   9493900  NaN  25764700.0  \n",
       "2019-04-22 00:00:00  10015800  10770600  NaN   9949700.0  \n",
       "\n",
       "[2 rows x 400 columns]"
      ]
     },
     "execution_count": 61,
     "metadata": {},
     "output_type": "execute_result"
    }
   ],
   "source": [
    "voluminous_stocks_yf.head(2)"
   ]
  },
  {
   "cell_type": "code",
   "execution_count": 62,
   "metadata": {},
   "outputs": [
    {
     "name": "stdout",
     "output_type": "stream",
     "text": [
      "<class 'pandas.core.frame.DataFrame'>\n",
      "Index: 3778 entries, 2019-04-18 00:00:00 to 2019-04-17 00:00:00\n",
      "Columns: 400 entries, ('adj_close', 'AA') to ('volume', 'ZM')\n",
      "dtypes: float64(227), int64(173)\n",
      "memory usage: 11.6+ MB\n"
     ]
    }
   ],
   "source": [
    "voluminous_stocks_yf.info()"
   ]
  },
  {
   "cell_type": "code",
   "execution_count": 11,
   "metadata": {},
   "outputs": [
    {
     "data": {
      "text/plain": [
       "200"
      ]
     },
     "execution_count": 11,
     "metadata": {},
     "output_type": "execute_result"
    }
   ],
   "source": [
    "len(voluminous_stocks_tickers)\n"
   ]
  },
  {
   "attachments": {},
   "cell_type": "markdown",
   "metadata": {},
   "source": [
    "# Обработка финансовых данных\n"
   ]
  },
  {
   "cell_type": "code",
   "execution_count": null,
   "metadata": {},
   "outputs": [],
   "source": []
  },
  {
   "attachments": {},
   "cell_type": "markdown",
   "metadata": {},
   "source": [
    "# Построение инвестиционной стратегии или финансовой модели\n"
   ]
  },
  {
   "cell_type": "code",
   "execution_count": null,
   "metadata": {},
   "outputs": [],
   "source": []
  },
  {
   "attachments": {},
   "cell_type": "markdown",
   "metadata": {},
   "source": [
    "# Аналитика и визуализация результатов\n"
   ]
  }
 ],
 "metadata": {
  "kernelspec": {
   "display_name": ".venv",
   "language": "python",
   "name": "python3"
  },
  "language_info": {
   "codemirror_mode": {
    "name": "ipython",
    "version": 3
   },
   "file_extension": ".py",
   "mimetype": "text/x-python",
   "name": "python",
   "nbconvert_exporter": "python",
   "pygments_lexer": "ipython3",
   "version": "3.10.11"
  },
  "orig_nbformat": 4
 },
 "nbformat": 4,
 "nbformat_minor": 2
}
