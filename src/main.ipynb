{
 "cells": [
  {
   "cell_type": "code",
   "execution_count": 6,
   "metadata": {},
   "outputs": [],
   "source": [
    "import pqr\n",
    "import pandas as pd\n",
    "import numpy as np\n",
    "import matplotlib.pyplot as plt\n",
    "import yfinance as yf\n"
   ]
  },
  {
   "attachments": {},
   "cell_type": "markdown",
   "metadata": {},
   "source": [
    "# Выгрузка исходных данных для построения стратегии или модели\n"
   ]
  },
  {
   "cell_type": "code",
   "execution_count": 7,
   "metadata": {},
   "outputs": [],
   "source": [
    "import requests\n",
    "\n",
    "voluminous_stocks_tickers = requests.get(\n",
    "    \"https://github.com/aalitvinov/ITfF_tomtosov/raw/main/hw_data/voluminous_stocks_tickers.json\"\n",
    ").json()\n"
   ]
  },
  {
   "cell_type": "code",
   "execution_count": 59,
   "metadata": {},
   "outputs": [],
   "source": [
    "from datetime import datetime\n",
    "\n",
    "start = datetime(2008, 1, 1)\n",
    "end = datetime(2023, 1, 1)\n"
   ]
  },
  {
   "cell_type": "code",
   "execution_count": 87,
   "metadata": {},
   "outputs": [
    {
     "name": "stdout",
     "output_type": "stream",
     "text": [
      "[*********************100%***********************]  1 of 1 completed\n"
     ]
    }
   ],
   "source": [
    "snp500 = yf.download(\n",
    "            tickers=\"^GSPC\",\n",
    "            interval=\"1d\",\n",
    "            start=start,\n",
    "            end=end,\n",
    "            show_errors=False,\n",
    "        )"
   ]
  },
  {
   "cell_type": "code",
   "execution_count": 88,
   "metadata": {},
   "outputs": [
    {
     "name": "stdout",
     "output_type": "stream",
     "text": [
      "[*********************100%***********************]  200 of 200 completed\n",
      "[*********************100%***********************]  1 of 1 completed\n"
     ]
    }
   ],
   "source": [
    "try:\n",
    "    voluminous_stocks_yf = pd.read_csv(\n",
    "        \"./hw_data/voluminous_stocks_yf.csv.xz\",\n",
    "        compression=\"xz\",\n",
    "        header=[0, 1],\n",
    "        index_col=[0, 1],\n",
    "    )\n",
    "    snp500 = pd.read_csv(\"./hw_data/snp500_historical.csv\")\n",
    "except FileNotFoundError:\n",
    "    voluminous_stocks_yf: pd.DataFrame = (\n",
    "        yf.download(\n",
    "            tickers=voluminous_stocks_tickers,\n",
    "            interval=\"1d\",\n",
    "            start=start,\n",
    "            end=end,\n",
    "            group_by=\"column\",\n",
    "            progress=True,\n",
    "            show_errors=False,\n",
    "        )\n",
    "        .loc[:, [\"Adj Close\", \"Volume\"]]\n",
    "        .rename({\"Adj Close\": \"adj_close\", \"Volume\": \"volume\"}, axis=1)\n",
    "    )\n",
    "    snp500: pd.DataFrame = (\n",
    "        yf.download(\n",
    "            tickers=\"^GSPC\",\n",
    "            interval=\"1d\",\n",
    "            start=start,\n",
    "            end=end,\n",
    "            show_errors=False,\n",
    "        )\n",
    "        .loc[:, [\"Adj Close\", \"Volume\"]]\n",
    "        .rename({\"Adj Close\": \"adj_close\", \"Volume\": \"volume\"}, axis=1)\n",
    "    )\n",
    "    snp500.to_csv(\"./hw_data/snp500_historical.csv\")\n",
    "    voluminous_stocks_yf.to_csv(\n",
    "        \"./hw_data/voluminous_stocks_yf.csv.xz\", compression=\"xz\", index=True\n",
    "    )\n"
   ]
  },
  {
   "cell_type": "code",
   "execution_count": 89,
   "metadata": {},
   "outputs": [
    {
     "data": {
      "text/html": [
       "<div>\n",
       "<style scoped>\n",
       "    .dataframe tbody tr th:only-of-type {\n",
       "        vertical-align: middle;\n",
       "    }\n",
       "\n",
       "    .dataframe tbody tr th {\n",
       "        vertical-align: top;\n",
       "    }\n",
       "\n",
       "    .dataframe thead tr th {\n",
       "        text-align: left;\n",
       "    }\n",
       "\n",
       "    .dataframe thead tr:last-of-type th {\n",
       "        text-align: right;\n",
       "    }\n",
       "</style>\n",
       "<table border=\"1\" class=\"dataframe\">\n",
       "  <thead>\n",
       "    <tr>\n",
       "      <th></th>\n",
       "      <th colspan=\"10\" halign=\"left\">adj_close</th>\n",
       "      <th>...</th>\n",
       "      <th colspan=\"10\" halign=\"left\">volume</th>\n",
       "    </tr>\n",
       "    <tr>\n",
       "      <th></th>\n",
       "      <th>AA</th>\n",
       "      <th>AAL</th>\n",
       "      <th>AAPL</th>\n",
       "      <th>ABBV</th>\n",
       "      <th>ABEV</th>\n",
       "      <th>ABT</th>\n",
       "      <th>AFL</th>\n",
       "      <th>AIG</th>\n",
       "      <th>AIV</th>\n",
       "      <th>AMAT</th>\n",
       "      <th>...</th>\n",
       "      <th>VXRT</th>\n",
       "      <th>VZ</th>\n",
       "      <th>WLL</th>\n",
       "      <th>WMB</th>\n",
       "      <th>WMT</th>\n",
       "      <th>WPM</th>\n",
       "      <th>X</th>\n",
       "      <th>XOM</th>\n",
       "      <th>XSPA</th>\n",
       "      <th>ZM</th>\n",
       "    </tr>\n",
       "    <tr>\n",
       "      <th>Date</th>\n",
       "      <th></th>\n",
       "      <th></th>\n",
       "      <th></th>\n",
       "      <th></th>\n",
       "      <th></th>\n",
       "      <th></th>\n",
       "      <th></th>\n",
       "      <th></th>\n",
       "      <th></th>\n",
       "      <th></th>\n",
       "      <th></th>\n",
       "      <th></th>\n",
       "      <th></th>\n",
       "      <th></th>\n",
       "      <th></th>\n",
       "      <th></th>\n",
       "      <th></th>\n",
       "      <th></th>\n",
       "      <th></th>\n",
       "      <th></th>\n",
       "      <th></th>\n",
       "    </tr>\n",
       "  </thead>\n",
       "  <tbody>\n",
       "    <tr>\n",
       "      <th>2019-04-18 00:00:00</th>\n",
       "      <td>26.358833</td>\n",
       "      <td>33.915295</td>\n",
       "      <td>49.325840</td>\n",
       "      <td>64.328300</td>\n",
       "      <td>3.760329</td>\n",
       "      <td>69.277443</td>\n",
       "      <td>44.319912</td>\n",
       "      <td>41.089413</td>\n",
       "      <td>4.561910</td>\n",
       "      <td>42.011478</td>\n",
       "      <td>...</td>\n",
       "      <td>907700</td>\n",
       "      <td>13189000</td>\n",
       "      <td>NaN</td>\n",
       "      <td>6097400</td>\n",
       "      <td>3727800</td>\n",
       "      <td>3175300</td>\n",
       "      <td>11889100</td>\n",
       "      <td>9493900</td>\n",
       "      <td>NaN</td>\n",
       "      <td>25764700.0</td>\n",
       "    </tr>\n",
       "    <tr>\n",
       "      <th>2019-04-22 00:00:00</th>\n",
       "      <td>27.822117</td>\n",
       "      <td>33.037067</td>\n",
       "      <td>49.487942</td>\n",
       "      <td>64.809303</td>\n",
       "      <td>3.820701</td>\n",
       "      <td>69.830368</td>\n",
       "      <td>43.993774</td>\n",
       "      <td>41.053711</td>\n",
       "      <td>4.492435</td>\n",
       "      <td>41.858532</td>\n",
       "      <td>...</td>\n",
       "      <td>1207900</td>\n",
       "      <td>11950400</td>\n",
       "      <td>NaN</td>\n",
       "      <td>4138800</td>\n",
       "      <td>5079400</td>\n",
       "      <td>1466600</td>\n",
       "      <td>10015800</td>\n",
       "      <td>10770600</td>\n",
       "      <td>NaN</td>\n",
       "      <td>9949700.0</td>\n",
       "    </tr>\n",
       "  </tbody>\n",
       "</table>\n",
       "<p>2 rows × 400 columns</p>\n",
       "</div>"
      ],
      "text/plain": [
       "                     adj_close                                             \\\n",
       "                            AA        AAL       AAPL       ABBV      ABEV   \n",
       "Date                                                                        \n",
       "2019-04-18 00:00:00  26.358833  33.915295  49.325840  64.328300  3.760329   \n",
       "2019-04-22 00:00:00  27.822117  33.037067  49.487942  64.809303  3.820701   \n",
       "\n",
       "                                                                           \\\n",
       "                           ABT        AFL        AIG       AIV       AMAT   \n",
       "Date                                                                        \n",
       "2019-04-18 00:00:00  69.277443  44.319912  41.089413  4.561910  42.011478   \n",
       "2019-04-22 00:00:00  69.830368  43.993774  41.053711  4.492435  41.858532   \n",
       "\n",
       "                     ...   volume                                           \\\n",
       "                     ...     VXRT        VZ WLL      WMB      WMT      WPM   \n",
       "Date                 ...                                                     \n",
       "2019-04-18 00:00:00  ...   907700  13189000 NaN  6097400  3727800  3175300   \n",
       "2019-04-22 00:00:00  ...  1207900  11950400 NaN  4138800  5079400  1466600   \n",
       "\n",
       "                                                          \n",
       "                            X       XOM XSPA          ZM  \n",
       "Date                                                      \n",
       "2019-04-18 00:00:00  11889100   9493900  NaN  25764700.0  \n",
       "2019-04-22 00:00:00  10015800  10770600  NaN   9949700.0  \n",
       "\n",
       "[2 rows x 400 columns]"
      ]
     },
     "execution_count": 89,
     "metadata": {},
     "output_type": "execute_result"
    }
   ],
   "source": [
    "voluminous_stocks_yf.head(2)"
   ]
  },
  {
   "cell_type": "code",
   "execution_count": 62,
   "metadata": {},
   "outputs": [
    {
     "name": "stdout",
     "output_type": "stream",
     "text": [
      "<class 'pandas.core.frame.DataFrame'>\n",
      "Index: 3778 entries, 2019-04-18 00:00:00 to 2019-04-17 00:00:00\n",
      "Columns: 400 entries, ('adj_close', 'AA') to ('volume', 'ZM')\n",
      "dtypes: float64(227), int64(173)\n",
      "memory usage: 11.6+ MB\n"
     ]
    }
   ],
   "source": [
    "voluminous_stocks_yf.info()"
   ]
  },
  {
   "cell_type": "code",
   "execution_count": 11,
   "metadata": {},
   "outputs": [
    {
     "data": {
      "text/plain": [
       "200"
      ]
     },
     "execution_count": 11,
     "metadata": {},
     "output_type": "execute_result"
    }
   ],
   "source": [
    "len(voluminous_stocks_tickers)\n"
   ]
  },
  {
   "attachments": {},
   "cell_type": "markdown",
   "metadata": {},
   "source": [
    "# Обработка финансовых данных\n"
   ]
  },
  {
   "attachments": {},
   "cell_type": "markdown",
   "metadata": {},
   "source": [
    "Удаление столбцов с акциями, у которых нет хотя бы 500 значений:"
   ]
  },
  {
   "cell_type": "code",
   "execution_count": 77,
   "metadata": {},
   "outputs": [
    {
     "data": {
      "text/plain": [
       "(3778, 382)"
      ]
     },
     "execution_count": 77,
     "metadata": {},
     "output_type": "execute_result"
    }
   ],
   "source": [
    "voluminous_stocks_yf.dropna(axis=1, thresh=500).shape"
   ]
  },
  {
   "cell_type": "code",
   "execution_count": 65,
   "metadata": {},
   "outputs": [
    {
     "data": {
      "text/html": [
       "<div>\n",
       "<style scoped>\n",
       "    .dataframe tbody tr th:only-of-type {\n",
       "        vertical-align: middle;\n",
       "    }\n",
       "\n",
       "    .dataframe tbody tr th {\n",
       "        vertical-align: top;\n",
       "    }\n",
       "\n",
       "    .dataframe thead th {\n",
       "        text-align: right;\n",
       "    }\n",
       "</style>\n",
       "<table border=\"1\" class=\"dataframe\">\n",
       "  <thead>\n",
       "    <tr style=\"text-align: right;\">\n",
       "      <th></th>\n",
       "      <th>AA</th>\n",
       "      <th>AAL</th>\n",
       "      <th>AAPL</th>\n",
       "      <th>ABBV</th>\n",
       "      <th>ABEV</th>\n",
       "      <th>ABT</th>\n",
       "      <th>AFL</th>\n",
       "      <th>AIG</th>\n",
       "      <th>AIV</th>\n",
       "      <th>AMAT</th>\n",
       "      <th>...</th>\n",
       "      <th>VXRT</th>\n",
       "      <th>VZ</th>\n",
       "      <th>WLL</th>\n",
       "      <th>WMB</th>\n",
       "      <th>WMT</th>\n",
       "      <th>WPM</th>\n",
       "      <th>X</th>\n",
       "      <th>XOM</th>\n",
       "      <th>XSPA</th>\n",
       "      <th>ZM</th>\n",
       "    </tr>\n",
       "    <tr>\n",
       "      <th>Date</th>\n",
       "      <th></th>\n",
       "      <th></th>\n",
       "      <th></th>\n",
       "      <th></th>\n",
       "      <th></th>\n",
       "      <th></th>\n",
       "      <th></th>\n",
       "      <th></th>\n",
       "      <th></th>\n",
       "      <th></th>\n",
       "      <th></th>\n",
       "      <th></th>\n",
       "      <th></th>\n",
       "      <th></th>\n",
       "      <th></th>\n",
       "      <th></th>\n",
       "      <th></th>\n",
       "      <th></th>\n",
       "      <th></th>\n",
       "      <th></th>\n",
       "      <th></th>\n",
       "    </tr>\n",
       "  </thead>\n",
       "  <tbody>\n",
       "    <tr>\n",
       "      <th>2019-04-18 00:00:00</th>\n",
       "      <td>26.358835</td>\n",
       "      <td>33.915295</td>\n",
       "      <td>49.325844</td>\n",
       "      <td>64.328308</td>\n",
       "      <td>3.760329</td>\n",
       "      <td>69.277428</td>\n",
       "      <td>44.319916</td>\n",
       "      <td>41.089409</td>\n",
       "      <td>4.561911</td>\n",
       "      <td>42.011478</td>\n",
       "      <td>...</td>\n",
       "      <td>0.77</td>\n",
       "      <td>47.840244</td>\n",
       "      <td>NaN</td>\n",
       "      <td>21.909897</td>\n",
       "      <td>96.521996</td>\n",
       "      <td>20.805519</td>\n",
       "      <td>15.938238</td>\n",
       "      <td>65.185242</td>\n",
       "      <td>NaN</td>\n",
       "      <td>62.000000</td>\n",
       "    </tr>\n",
       "    <tr>\n",
       "      <th>2019-04-22 00:00:00</th>\n",
       "      <td>27.822113</td>\n",
       "      <td>33.037071</td>\n",
       "      <td>49.487949</td>\n",
       "      <td>64.809296</td>\n",
       "      <td>3.820701</td>\n",
       "      <td>69.830391</td>\n",
       "      <td>43.993767</td>\n",
       "      <td>41.053707</td>\n",
       "      <td>4.492435</td>\n",
       "      <td>41.858528</td>\n",
       "      <td>...</td>\n",
       "      <td>0.76</td>\n",
       "      <td>48.112247</td>\n",
       "      <td>NaN</td>\n",
       "      <td>22.250301</td>\n",
       "      <td>95.764267</td>\n",
       "      <td>20.644463</td>\n",
       "      <td>15.637338</td>\n",
       "      <td>66.607391</td>\n",
       "      <td>NaN</td>\n",
       "      <td>65.699997</td>\n",
       "    </tr>\n",
       "    <tr>\n",
       "      <th>2019-04-23 00:00:00</th>\n",
       "      <td>28.207712</td>\n",
       "      <td>33.520584</td>\n",
       "      <td>50.201721</td>\n",
       "      <td>65.232231</td>\n",
       "      <td>3.881073</td>\n",
       "      <td>71.320526</td>\n",
       "      <td>44.310860</td>\n",
       "      <td>41.035854</td>\n",
       "      <td>4.577871</td>\n",
       "      <td>41.896770</td>\n",
       "      <td>...</td>\n",
       "      <td>0.75</td>\n",
       "      <td>47.106651</td>\n",
       "      <td>NaN</td>\n",
       "      <td>22.296721</td>\n",
       "      <td>96.419090</td>\n",
       "      <td>20.483391</td>\n",
       "      <td>15.676164</td>\n",
       "      <td>66.993042</td>\n",
       "      <td>NaN</td>\n",
       "      <td>69.000000</td>\n",
       "    </tr>\n",
       "  </tbody>\n",
       "</table>\n",
       "<p>3 rows × 200 columns</p>\n",
       "</div>"
      ],
      "text/plain": [
       "                            AA        AAL       AAPL       ABBV      ABEV  \\\n",
       "Date                                                                        \n",
       "2019-04-18 00:00:00  26.358835  33.915295  49.325844  64.328308  3.760329   \n",
       "2019-04-22 00:00:00  27.822113  33.037071  49.487949  64.809296  3.820701   \n",
       "2019-04-23 00:00:00  28.207712  33.520584  50.201721  65.232231  3.881073   \n",
       "\n",
       "                           ABT        AFL        AIG       AIV       AMAT  \\\n",
       "Date                                                                        \n",
       "2019-04-18 00:00:00  69.277428  44.319916  41.089409  4.561911  42.011478   \n",
       "2019-04-22 00:00:00  69.830391  43.993767  41.053707  4.492435  41.858528   \n",
       "2019-04-23 00:00:00  71.320526  44.310860  41.035854  4.577871  41.896770   \n",
       "\n",
       "                     ...  VXRT         VZ  WLL        WMB        WMT  \\\n",
       "Date                 ...                                               \n",
       "2019-04-18 00:00:00  ...  0.77  47.840244  NaN  21.909897  96.521996   \n",
       "2019-04-22 00:00:00  ...  0.76  48.112247  NaN  22.250301  95.764267   \n",
       "2019-04-23 00:00:00  ...  0.75  47.106651  NaN  22.296721  96.419090   \n",
       "\n",
       "                           WPM          X        XOM  XSPA         ZM  \n",
       "Date                                                                   \n",
       "2019-04-18 00:00:00  20.805519  15.938238  65.185242   NaN  62.000000  \n",
       "2019-04-22 00:00:00  20.644463  15.637338  66.607391   NaN  65.699997  \n",
       "2019-04-23 00:00:00  20.483391  15.676164  66.993042   NaN  69.000000  \n",
       "\n",
       "[3 rows x 200 columns]"
      ]
     },
     "execution_count": 65,
     "metadata": {},
     "output_type": "execute_result"
    }
   ],
   "source": [
    "prices = voluminous_stocks_yf.loc[:, \"adj_close\"]\n",
    "prices.head(3)"
   ]
  },
  {
   "cell_type": "code",
   "execution_count": 81,
   "metadata": {},
   "outputs": [
    {
     "data": {
      "text/html": [
       "<div>\n",
       "<style scoped>\n",
       "    .dataframe tbody tr th:only-of-type {\n",
       "        vertical-align: middle;\n",
       "    }\n",
       "\n",
       "    .dataframe tbody tr th {\n",
       "        vertical-align: top;\n",
       "    }\n",
       "\n",
       "    .dataframe thead th {\n",
       "        text-align: right;\n",
       "    }\n",
       "</style>\n",
       "<table border=\"1\" class=\"dataframe\">\n",
       "  <thead>\n",
       "    <tr style=\"text-align: right;\">\n",
       "      <th></th>\n",
       "      <th>AA</th>\n",
       "      <th>AAL</th>\n",
       "      <th>AAPL</th>\n",
       "      <th>ABBV</th>\n",
       "      <th>ABEV</th>\n",
       "      <th>ABT</th>\n",
       "      <th>AFL</th>\n",
       "      <th>AIG</th>\n",
       "      <th>AIV</th>\n",
       "      <th>AMAT</th>\n",
       "      <th>...</th>\n",
       "      <th>VXRT</th>\n",
       "      <th>VZ</th>\n",
       "      <th>WLL</th>\n",
       "      <th>WMB</th>\n",
       "      <th>WMT</th>\n",
       "      <th>WPM</th>\n",
       "      <th>X</th>\n",
       "      <th>XOM</th>\n",
       "      <th>XSPA</th>\n",
       "      <th>ZM</th>\n",
       "    </tr>\n",
       "    <tr>\n",
       "      <th>Date</th>\n",
       "      <th></th>\n",
       "      <th></th>\n",
       "      <th></th>\n",
       "      <th></th>\n",
       "      <th></th>\n",
       "      <th></th>\n",
       "      <th></th>\n",
       "      <th></th>\n",
       "      <th></th>\n",
       "      <th></th>\n",
       "      <th></th>\n",
       "      <th></th>\n",
       "      <th></th>\n",
       "      <th></th>\n",
       "      <th></th>\n",
       "      <th></th>\n",
       "      <th></th>\n",
       "      <th></th>\n",
       "      <th></th>\n",
       "      <th></th>\n",
       "      <th></th>\n",
       "    </tr>\n",
       "  </thead>\n",
       "  <tbody>\n",
       "    <tr>\n",
       "      <th>2019-04-18 00:00:00</th>\n",
       "      <td>2.497816e+08</td>\n",
       "      <td>1.125377e+08</td>\n",
       "      <td>4.773913e+09</td>\n",
       "      <td>5.007894e+08</td>\n",
       "      <td>9.319599e+07</td>\n",
       "      <td>6.728362e+08</td>\n",
       "      <td>1.893302e+08</td>\n",
       "      <td>1.532347e+08</td>\n",
       "      <td>4.784527e+07</td>\n",
       "      <td>2.571985e+08</td>\n",
       "      <td>...</td>\n",
       "      <td>698928.982687</td>\n",
       "      <td>6.309650e+08</td>\n",
       "      <td>NaN</td>\n",
       "      <td>1.335934e+08</td>\n",
       "      <td>3.598147e+08</td>\n",
       "      <td>6.606376e+07</td>\n",
       "      <td>1.894913e+08</td>\n",
       "      <td>6.188622e+08</td>\n",
       "      <td>NaN</td>\n",
       "      <td>1.597411e+09</td>\n",
       "    </tr>\n",
       "    <tr>\n",
       "      <th>2019-04-22 00:00:00</th>\n",
       "      <td>1.736434e+08</td>\n",
       "      <td>1.283226e+08</td>\n",
       "      <td>3.848084e+09</td>\n",
       "      <td>3.472871e+08</td>\n",
       "      <td>9.241320e+07</td>\n",
       "      <td>4.057635e+08</td>\n",
       "      <td>9.828207e+07</td>\n",
       "      <td>1.080123e+08</td>\n",
       "      <td>4.799276e+07</td>\n",
       "      <td>1.955714e+08</td>\n",
       "      <td>...</td>\n",
       "      <td>918003.988481</td>\n",
       "      <td>5.749606e+08</td>\n",
       "      <td>NaN</td>\n",
       "      <td>9.208955e+07</td>\n",
       "      <td>4.864250e+08</td>\n",
       "      <td>3.027717e+07</td>\n",
       "      <td>1.566204e+08</td>\n",
       "      <td>7.174016e+08</td>\n",
       "      <td>NaN</td>\n",
       "      <td>6.536953e+08</td>\n",
       "    </tr>\n",
       "    <tr>\n",
       "      <th>2019-04-23 00:00:00</th>\n",
       "      <td>1.349683e+08</td>\n",
       "      <td>1.116168e+08</td>\n",
       "      <td>4.683419e+09</td>\n",
       "      <td>6.471429e+08</td>\n",
       "      <td>7.855603e+07</td>\n",
       "      <td>4.866556e+08</td>\n",
       "      <td>1.548665e+08</td>\n",
       "      <td>2.066730e+08</td>\n",
       "      <td>3.378605e+07</td>\n",
       "      <td>2.808718e+08</td>\n",
       "      <td>...</td>\n",
       "      <td>441975.000000</td>\n",
       "      <td>1.106474e+09</td>\n",
       "      <td>NaN</td>\n",
       "      <td>1.211069e+08</td>\n",
       "      <td>4.869935e+08</td>\n",
       "      <td>3.884880e+07</td>\n",
       "      <td>1.811976e+08</td>\n",
       "      <td>7.097980e+08</td>\n",
       "      <td>NaN</td>\n",
       "      <td>4.682685e+08</td>\n",
       "    </tr>\n",
       "  </tbody>\n",
       "</table>\n",
       "<p>3 rows × 200 columns</p>\n",
       "</div>"
      ],
      "text/plain": [
       "                               AA           AAL          AAPL          ABBV  \\\n",
       "Date                                                                          \n",
       "2019-04-18 00:00:00  2.497816e+08  1.125377e+08  4.773913e+09  5.007894e+08   \n",
       "2019-04-22 00:00:00  1.736434e+08  1.283226e+08  3.848084e+09  3.472871e+08   \n",
       "2019-04-23 00:00:00  1.349683e+08  1.116168e+08  4.683419e+09  6.471429e+08   \n",
       "\n",
       "                             ABEV           ABT           AFL           AIG  \\\n",
       "Date                                                                          \n",
       "2019-04-18 00:00:00  9.319599e+07  6.728362e+08  1.893302e+08  1.532347e+08   \n",
       "2019-04-22 00:00:00  9.241320e+07  4.057635e+08  9.828207e+07  1.080123e+08   \n",
       "2019-04-23 00:00:00  7.855603e+07  4.866556e+08  1.548665e+08  2.066730e+08   \n",
       "\n",
       "                              AIV          AMAT  ...           VXRT  \\\n",
       "Date                                             ...                  \n",
       "2019-04-18 00:00:00  4.784527e+07  2.571985e+08  ...  698928.982687   \n",
       "2019-04-22 00:00:00  4.799276e+07  1.955714e+08  ...  918003.988481   \n",
       "2019-04-23 00:00:00  3.378605e+07  2.808718e+08  ...  441975.000000   \n",
       "\n",
       "                               VZ  WLL           WMB           WMT  \\\n",
       "Date                                                                 \n",
       "2019-04-18 00:00:00  6.309650e+08  NaN  1.335934e+08  3.598147e+08   \n",
       "2019-04-22 00:00:00  5.749606e+08  NaN  9.208955e+07  4.864250e+08   \n",
       "2019-04-23 00:00:00  1.106474e+09  NaN  1.211069e+08  4.869935e+08   \n",
       "\n",
       "                              WPM             X           XOM  XSPA  \\\n",
       "Date                                                                  \n",
       "2019-04-18 00:00:00  6.606376e+07  1.894913e+08  6.188622e+08   NaN   \n",
       "2019-04-22 00:00:00  3.027717e+07  1.566204e+08  7.174016e+08   NaN   \n",
       "2019-04-23 00:00:00  3.884880e+07  1.811976e+08  7.097980e+08   NaN   \n",
       "\n",
       "                               ZM  \n",
       "Date                               \n",
       "2019-04-18 00:00:00  1.597411e+09  \n",
       "2019-04-22 00:00:00  6.536953e+08  \n",
       "2019-04-23 00:00:00  4.682685e+08  \n",
       "\n",
       "[3 rows x 200 columns]"
      ]
     },
     "execution_count": 81,
     "metadata": {},
     "output_type": "execute_result"
    }
   ],
   "source": [
    "volume = voluminous_stocks_yf.loc[:, \"volume\"] * prices\n",
    "volume.head(3)"
   ]
  },
  {
   "cell_type": "code",
   "execution_count": 82,
   "metadata": {},
   "outputs": [],
   "source": [
    "prices, volume = pqr.utils.align(prices, volume) # type: ignore\n",
    "prices, volume = pqr.utils.replace_with_nan(prices, volume, to_replace=0) # type: ignore\n",
    "prices: pd.DataFrame = prices\n",
    "volume: pd.DataFrame = volume"
   ]
  },
  {
   "cell_type": "code",
   "execution_count": 83,
   "metadata": {},
   "outputs": [],
   "source": [
    "universe = (prices > 10) & (volume > 20_000_000)"
   ]
  },
  {
   "cell_type": "code",
   "execution_count": 86,
   "metadata": {},
   "outputs": [
    {
     "data": {
      "text/plain": [
       "KO      3778\n",
       "BAX     3778\n",
       "GS      3778\n",
       "KSS     3778\n",
       "GILD    3778\n",
       "        ... \n",
       "GOED       0\n",
       "NILE       0\n",
       "CDEV       0\n",
       "NLOK       0\n",
       "PIRS       0\n",
       "Length: 200, dtype: int64"
      ]
     },
     "execution_count": 86,
     "metadata": {},
     "output_type": "execute_result"
    }
   ],
   "source": [
    "universe.sum().sort_values(ascending=False) # type: ignore"
   ]
  },
  {
   "attachments": {},
   "cell_type": "markdown",
   "metadata": {},
   "source": [
    "# Построение инвестиционной стратегии или финансовой модели\n"
   ]
  },
  {
   "cell_type": "code",
   "execution_count": 90,
   "metadata": {},
   "outputs": [],
   "source": [
    "returns_calculator = pqr.utils.partial(\n",
    "    pqr.calculate_returns, \n",
    "    universe_returns=pqr.prices_to_returns(prices),\n",
    ")"
   ]
  },
  {
   "cell_type": "code",
   "execution_count": 96,
   "metadata": {},
   "outputs": [
    {
     "data": {
      "text/plain": [
       "EW_Benchmark\n",
       "2019-04-18    0.000000\n",
       "2019-04-22   -0.000187\n",
       "2019-04-23    0.008288\n",
       "2019-04-24   -0.001217\n",
       "2019-04-25   -0.003453\n",
       "                ...   \n",
       "2019-04-11   -0.001882\n",
       "2019-04-12    0.006134\n",
       "2019-04-15   -0.003396\n",
       "2019-04-16    0.004152\n",
       "2019-04-17   -0.001348\n",
       "Length: 3778, dtype: float64"
      ]
     },
     "execution_count": 96,
     "metadata": {},
     "output_type": "execute_result"
    }
   ],
   "source": [
    "ew_benchmark = pqr.Benchmark.from_universe(\n",
    "    universe=universe,\n",
    "    allocator=pqr.equal_weights,\n",
    "    calculator=returns_calculator,\n",
    "    name='EW_Benchmark'\n",
    ")\n",
    "\n",
    "ew_benchmark.returns"
   ]
  },
  {
   "cell_type": "code",
   "execution_count": 95,
   "metadata": {},
   "outputs": [
    {
     "data": {
      "text/plain": [
       "S&P 500\n",
       "2007-12-31    0.000000\n",
       "2008-01-02   -0.014438\n",
       "2008-01-03    0.000000\n",
       "2008-01-04   -0.024552\n",
       "2008-01-07    0.003223\n",
       "                ...   \n",
       "2022-12-23    0.005868\n",
       "2022-12-27   -0.004050\n",
       "2022-12-28   -0.012021\n",
       "2022-12-29    0.017461\n",
       "2022-12-30   -0.002541\n",
       "Name: adj_close, Length: 3778, dtype: float64"
      ]
     },
     "execution_count": 95,
     "metadata": {},
     "output_type": "execute_result"
    }
   ],
   "source": [
    "imoex_benchmark = pqr.Benchmark.from_index(\n",
    "    index=snp500.loc[:, \"adj_close\"],\n",
    "    name='S&P 500'\n",
    ")\n",
    "\n",
    "imoex_benchmark.returns"
   ]
  },
  {
   "attachments": {},
   "cell_type": "markdown",
   "metadata": {},
   "source": [
    "# Аналитика и визуализация результатов\n"
   ]
  }
 ],
 "metadata": {
  "kernelspec": {
   "display_name": ".venv",
   "language": "python",
   "name": "python3"
  },
  "language_info": {
   "codemirror_mode": {
    "name": "ipython",
    "version": 3
   },
   "file_extension": ".py",
   "mimetype": "text/x-python",
   "name": "python",
   "nbconvert_exporter": "python",
   "pygments_lexer": "ipython3",
   "version": "3.10.11"
  },
  "orig_nbformat": 4
 },
 "nbformat": 4,
 "nbformat_minor": 2
}
